{
  "nbformat": 4,
  "nbformat_minor": 0,
  "metadata": {
    "colab": {
      "provenance": []
    },
    "kernelspec": {
      "name": "python3",
      "display_name": "Python 3"
    },
    "language_info": {
      "name": "python"
    }
  },
  "cells": [
    {
      "cell_type": "code",
      "execution_count": 1,
      "metadata": {
        "id": "TxshFrn1qpA4"
      },
      "outputs": [],
      "source": [
        "import pandas as pd\n",
        "import numpy as np\n",
        "import os\n",
        "from matplotlib import pyplot as plt\n",
        "from sklearn.preprocessing import LabelEncoder\n",
        "from random import randint\n",
        "import json"
      ]
    },
    {
      "cell_type": "code",
      "source": [
        "from google.colab import drive\n",
        "drive.mount('/content/drive')"
      ],
      "metadata": {
        "colab": {
          "base_uri": "https://localhost:8080/"
        },
        "id": "yr8B0JFrP4WP",
        "outputId": "77913aea-d721-4d9b-c058-d39dff04eb7b"
      },
      "execution_count": 2,
      "outputs": [
        {
          "output_type": "stream",
          "name": "stdout",
          "text": [
            "Mounted at /content/drive\n"
          ]
        }
      ]
    },
    {
      "cell_type": "code",
      "source": [
        "data = pd.read_csv('/content/drive/MyDrive/datasets/data_ds.csv')\n",
        "users = pd.read_csv('/content/drive/MyDrive/datasets/users_ds.csv')\n",
        "items = pd.read_csv('/content/drive/MyDrive/datasets/items_ds.csv')"
      ],
      "metadata": {
        "id": "ugfJoVRUrk9O"
      },
      "execution_count": 146,
      "outputs": []
    },
    {
      "cell_type": "code",
      "source": [
        "print(data.head(),'\\n', users.head())"
      ],
      "metadata": {
        "colab": {
          "base_uri": "https://localhost:8080/"
        },
        "id": "WRrVx7yuSZsv",
        "outputId": "3085a971-22c2-4858-9429-304a34b86f33"
      },
      "execution_count": 147,
      "outputs": [
        {
          "output_type": "stream",
          "name": "stdout",
          "text": [
            "   user_id  item_id  rating  timestamp\n",
            "0      196      242       3  881250949\n",
            "1      186      302       3  891717742\n",
            "2       22      377       1  878887116\n",
            "3      244       51       2  880606923\n",
            "4      166      346       1  886397596 \n",
            "    user_id  age  gender  occupation zip_code\n",
            "0        1   24       1  technician    85711\n",
            "1        2   53       0       other    94043\n",
            "2        3   23       1      writer    32067\n",
            "3        4   24       1  technician    43537\n",
            "4        5   33       0       other    15213\n"
          ]
        }
      ]
    },
    {
      "cell_type": "code",
      "source": [
        "#encode occupation\n",
        "user_enc = LabelEncoder()\n",
        "users['occupation_enc'] = user_enc.fit_transform(users['occupation'].values)\n",
        "zip_enc = LabelEncoder()\n",
        "users['zip_code'] = zip_enc.fit_transform(users['zip_code'].values)\n",
        "users = users.drop(['occupation'], axis=1)\n",
        "\n",
        "user_vectors = []\n",
        "for i in range(len(users)):\n",
        "  user_vectors.append([users['age'][i], users['gender'][i],\n",
        "                      users['zip_code'][i], users['occupation_enc'][i]])\n",
        "users['u_vector'] = user_vectors\n",
        "\n",
        "users.head()"
      ],
      "metadata": {
        "colab": {
          "base_uri": "https://localhost:8080/",
          "height": 206
        },
        "id": "30a8SlauTLcf",
        "outputId": "b25a931e-0e23-4c0f-e52f-e47b86cfea90"
      },
      "execution_count": 148,
      "outputs": [
        {
          "output_type": "execute_result",
          "data": {
            "text/plain": [
              "   user_id  age  gender  zip_code  occupation_enc          u_vector\n",
              "0        1   24       1       622              19  [24, 1, 622, 19]\n",
              "1        2   53       0       689              13  [53, 0, 689, 13]\n",
              "2        3   23       1       270              20  [23, 1, 270, 20]\n",
              "3        4   24       1       331              19  [24, 1, 331, 19]\n",
              "4        5   33       0       133              13  [33, 0, 133, 13]"
            ],
            "text/html": [
              "\n",
              "  <div id=\"df-c5797cc9-85e0-496d-897f-ee0ef9b3d87e\" class=\"colab-df-container\">\n",
              "    <div>\n",
              "<style scoped>\n",
              "    .dataframe tbody tr th:only-of-type {\n",
              "        vertical-align: middle;\n",
              "    }\n",
              "\n",
              "    .dataframe tbody tr th {\n",
              "        vertical-align: top;\n",
              "    }\n",
              "\n",
              "    .dataframe thead th {\n",
              "        text-align: right;\n",
              "    }\n",
              "</style>\n",
              "<table border=\"1\" class=\"dataframe\">\n",
              "  <thead>\n",
              "    <tr style=\"text-align: right;\">\n",
              "      <th></th>\n",
              "      <th>user_id</th>\n",
              "      <th>age</th>\n",
              "      <th>gender</th>\n",
              "      <th>zip_code</th>\n",
              "      <th>occupation_enc</th>\n",
              "      <th>u_vector</th>\n",
              "    </tr>\n",
              "  </thead>\n",
              "  <tbody>\n",
              "    <tr>\n",
              "      <th>0</th>\n",
              "      <td>1</td>\n",
              "      <td>24</td>\n",
              "      <td>1</td>\n",
              "      <td>622</td>\n",
              "      <td>19</td>\n",
              "      <td>[24, 1, 622, 19]</td>\n",
              "    </tr>\n",
              "    <tr>\n",
              "      <th>1</th>\n",
              "      <td>2</td>\n",
              "      <td>53</td>\n",
              "      <td>0</td>\n",
              "      <td>689</td>\n",
              "      <td>13</td>\n",
              "      <td>[53, 0, 689, 13]</td>\n",
              "    </tr>\n",
              "    <tr>\n",
              "      <th>2</th>\n",
              "      <td>3</td>\n",
              "      <td>23</td>\n",
              "      <td>1</td>\n",
              "      <td>270</td>\n",
              "      <td>20</td>\n",
              "      <td>[23, 1, 270, 20]</td>\n",
              "    </tr>\n",
              "    <tr>\n",
              "      <th>3</th>\n",
              "      <td>4</td>\n",
              "      <td>24</td>\n",
              "      <td>1</td>\n",
              "      <td>331</td>\n",
              "      <td>19</td>\n",
              "      <td>[24, 1, 331, 19]</td>\n",
              "    </tr>\n",
              "    <tr>\n",
              "      <th>4</th>\n",
              "      <td>5</td>\n",
              "      <td>33</td>\n",
              "      <td>0</td>\n",
              "      <td>133</td>\n",
              "      <td>13</td>\n",
              "      <td>[33, 0, 133, 13]</td>\n",
              "    </tr>\n",
              "  </tbody>\n",
              "</table>\n",
              "</div>\n",
              "    <div class=\"colab-df-buttons\">\n",
              "\n",
              "  <div class=\"colab-df-container\">\n",
              "    <button class=\"colab-df-convert\" onclick=\"convertToInteractive('df-c5797cc9-85e0-496d-897f-ee0ef9b3d87e')\"\n",
              "            title=\"Convert this dataframe to an interactive table.\"\n",
              "            style=\"display:none;\">\n",
              "\n",
              "  <svg xmlns=\"http://www.w3.org/2000/svg\" height=\"24px\" viewBox=\"0 -960 960 960\">\n",
              "    <path d=\"M120-120v-720h720v720H120Zm60-500h600v-160H180v160Zm220 220h160v-160H400v160Zm0 220h160v-160H400v160ZM180-400h160v-160H180v160Zm440 0h160v-160H620v160ZM180-180h160v-160H180v160Zm440 0h160v-160H620v160Z\"/>\n",
              "  </svg>\n",
              "    </button>\n",
              "\n",
              "  <style>\n",
              "    .colab-df-container {\n",
              "      display:flex;\n",
              "      gap: 12px;\n",
              "    }\n",
              "\n",
              "    .colab-df-convert {\n",
              "      background-color: #E8F0FE;\n",
              "      border: none;\n",
              "      border-radius: 50%;\n",
              "      cursor: pointer;\n",
              "      display: none;\n",
              "      fill: #1967D2;\n",
              "      height: 32px;\n",
              "      padding: 0 0 0 0;\n",
              "      width: 32px;\n",
              "    }\n",
              "\n",
              "    .colab-df-convert:hover {\n",
              "      background-color: #E2EBFA;\n",
              "      box-shadow: 0px 1px 2px rgba(60, 64, 67, 0.3), 0px 1px 3px 1px rgba(60, 64, 67, 0.15);\n",
              "      fill: #174EA6;\n",
              "    }\n",
              "\n",
              "    .colab-df-buttons div {\n",
              "      margin-bottom: 4px;\n",
              "    }\n",
              "\n",
              "    [theme=dark] .colab-df-convert {\n",
              "      background-color: #3B4455;\n",
              "      fill: #D2E3FC;\n",
              "    }\n",
              "\n",
              "    [theme=dark] .colab-df-convert:hover {\n",
              "      background-color: #434B5C;\n",
              "      box-shadow: 0px 1px 3px 1px rgba(0, 0, 0, 0.15);\n",
              "      filter: drop-shadow(0px 1px 2px rgba(0, 0, 0, 0.3));\n",
              "      fill: #FFFFFF;\n",
              "    }\n",
              "  </style>\n",
              "\n",
              "    <script>\n",
              "      const buttonEl =\n",
              "        document.querySelector('#df-c5797cc9-85e0-496d-897f-ee0ef9b3d87e button.colab-df-convert');\n",
              "      buttonEl.style.display =\n",
              "        google.colab.kernel.accessAllowed ? 'block' : 'none';\n",
              "\n",
              "      async function convertToInteractive(key) {\n",
              "        const element = document.querySelector('#df-c5797cc9-85e0-496d-897f-ee0ef9b3d87e');\n",
              "        const dataTable =\n",
              "          await google.colab.kernel.invokeFunction('convertToInteractive',\n",
              "                                                    [key], {});\n",
              "        if (!dataTable) return;\n",
              "\n",
              "        const docLinkHtml = 'Like what you see? Visit the ' +\n",
              "          '<a target=\"_blank\" href=https://colab.research.google.com/notebooks/data_table.ipynb>data table notebook</a>'\n",
              "          + ' to learn more about interactive tables.';\n",
              "        element.innerHTML = '';\n",
              "        dataTable['output_type'] = 'display_data';\n",
              "        await google.colab.output.renderOutput(dataTable, element);\n",
              "        const docLink = document.createElement('div');\n",
              "        docLink.innerHTML = docLinkHtml;\n",
              "        element.appendChild(docLink);\n",
              "      }\n",
              "    </script>\n",
              "  </div>\n",
              "\n",
              "\n",
              "<div id=\"df-f5bbb20e-fcdd-4501-8120-c0542953b89c\">\n",
              "  <button class=\"colab-df-quickchart\" onclick=\"quickchart('df-f5bbb20e-fcdd-4501-8120-c0542953b89c')\"\n",
              "            title=\"Suggest charts\"\n",
              "            style=\"display:none;\">\n",
              "\n",
              "<svg xmlns=\"http://www.w3.org/2000/svg\" height=\"24px\"viewBox=\"0 0 24 24\"\n",
              "     width=\"24px\">\n",
              "    <g>\n",
              "        <path d=\"M19 3H5c-1.1 0-2 .9-2 2v14c0 1.1.9 2 2 2h14c1.1 0 2-.9 2-2V5c0-1.1-.9-2-2-2zM9 17H7v-7h2v7zm4 0h-2V7h2v10zm4 0h-2v-4h2v4z\"/>\n",
              "    </g>\n",
              "</svg>\n",
              "  </button>\n",
              "\n",
              "<style>\n",
              "  .colab-df-quickchart {\n",
              "      --bg-color: #E8F0FE;\n",
              "      --fill-color: #1967D2;\n",
              "      --hover-bg-color: #E2EBFA;\n",
              "      --hover-fill-color: #174EA6;\n",
              "      --disabled-fill-color: #AAA;\n",
              "      --disabled-bg-color: #DDD;\n",
              "  }\n",
              "\n",
              "  [theme=dark] .colab-df-quickchart {\n",
              "      --bg-color: #3B4455;\n",
              "      --fill-color: #D2E3FC;\n",
              "      --hover-bg-color: #434B5C;\n",
              "      --hover-fill-color: #FFFFFF;\n",
              "      --disabled-bg-color: #3B4455;\n",
              "      --disabled-fill-color: #666;\n",
              "  }\n",
              "\n",
              "  .colab-df-quickchart {\n",
              "    background-color: var(--bg-color);\n",
              "    border: none;\n",
              "    border-radius: 50%;\n",
              "    cursor: pointer;\n",
              "    display: none;\n",
              "    fill: var(--fill-color);\n",
              "    height: 32px;\n",
              "    padding: 0;\n",
              "    width: 32px;\n",
              "  }\n",
              "\n",
              "  .colab-df-quickchart:hover {\n",
              "    background-color: var(--hover-bg-color);\n",
              "    box-shadow: 0 1px 2px rgba(60, 64, 67, 0.3), 0 1px 3px 1px rgba(60, 64, 67, 0.15);\n",
              "    fill: var(--button-hover-fill-color);\n",
              "  }\n",
              "\n",
              "  .colab-df-quickchart-complete:disabled,\n",
              "  .colab-df-quickchart-complete:disabled:hover {\n",
              "    background-color: var(--disabled-bg-color);\n",
              "    fill: var(--disabled-fill-color);\n",
              "    box-shadow: none;\n",
              "  }\n",
              "\n",
              "  .colab-df-spinner {\n",
              "    border: 2px solid var(--fill-color);\n",
              "    border-color: transparent;\n",
              "    border-bottom-color: var(--fill-color);\n",
              "    animation:\n",
              "      spin 1s steps(1) infinite;\n",
              "  }\n",
              "\n",
              "  @keyframes spin {\n",
              "    0% {\n",
              "      border-color: transparent;\n",
              "      border-bottom-color: var(--fill-color);\n",
              "      border-left-color: var(--fill-color);\n",
              "    }\n",
              "    20% {\n",
              "      border-color: transparent;\n",
              "      border-left-color: var(--fill-color);\n",
              "      border-top-color: var(--fill-color);\n",
              "    }\n",
              "    30% {\n",
              "      border-color: transparent;\n",
              "      border-left-color: var(--fill-color);\n",
              "      border-top-color: var(--fill-color);\n",
              "      border-right-color: var(--fill-color);\n",
              "    }\n",
              "    40% {\n",
              "      border-color: transparent;\n",
              "      border-right-color: var(--fill-color);\n",
              "      border-top-color: var(--fill-color);\n",
              "    }\n",
              "    60% {\n",
              "      border-color: transparent;\n",
              "      border-right-color: var(--fill-color);\n",
              "    }\n",
              "    80% {\n",
              "      border-color: transparent;\n",
              "      border-right-color: var(--fill-color);\n",
              "      border-bottom-color: var(--fill-color);\n",
              "    }\n",
              "    90% {\n",
              "      border-color: transparent;\n",
              "      border-bottom-color: var(--fill-color);\n",
              "    }\n",
              "  }\n",
              "</style>\n",
              "\n",
              "  <script>\n",
              "    async function quickchart(key) {\n",
              "      const quickchartButtonEl =\n",
              "        document.querySelector('#' + key + ' button');\n",
              "      quickchartButtonEl.disabled = true;  // To prevent multiple clicks.\n",
              "      quickchartButtonEl.classList.add('colab-df-spinner');\n",
              "      try {\n",
              "        const charts = await google.colab.kernel.invokeFunction(\n",
              "            'suggestCharts', [key], {});\n",
              "      } catch (error) {\n",
              "        console.error('Error during call to suggestCharts:', error);\n",
              "      }\n",
              "      quickchartButtonEl.classList.remove('colab-df-spinner');\n",
              "      quickchartButtonEl.classList.add('colab-df-quickchart-complete');\n",
              "    }\n",
              "    (() => {\n",
              "      let quickchartButtonEl =\n",
              "        document.querySelector('#df-f5bbb20e-fcdd-4501-8120-c0542953b89c button');\n",
              "      quickchartButtonEl.style.display =\n",
              "        google.colab.kernel.accessAllowed ? 'block' : 'none';\n",
              "    })();\n",
              "  </script>\n",
              "</div>\n",
              "    </div>\n",
              "  </div>\n"
            ]
          },
          "metadata": {},
          "execution_count": 148
        }
      ]
    },
    {
      "cell_type": "code",
      "source": [
        "def find_avr(x):\n",
        "  s = 0\n",
        "  num = 0\n",
        "  for el in x:\n",
        "    if (el != 0):\n",
        "      s += el\n",
        "      num += 1\n",
        "  if (num == 0): return 0\n",
        "  return s / num"
      ],
      "metadata": {
        "id": "ZEesJHWP1jWv"
      },
      "execution_count": 149,
      "outputs": []
    },
    {
      "cell_type": "code",
      "source": [
        "def count_sim(x, y):\n",
        "  if (len(x) != len(y)): return None\n",
        "  x_mean = find_avr(x)\n",
        "  y_mean = find_avr(y)\n",
        "\n",
        "  sum_xy = 0\n",
        "  sum_x2 = 0\n",
        "  sum_y2 = 0\n",
        "  for i in range(len(x)):\n",
        "    if x[i] == 0: xi = x[i]\n",
        "    else: xi = x[i] - x_mean\n",
        "    if y[i] == 0: yi = y[i]\n",
        "    else: yi = y[i] - y_mean\n",
        "    sum_xy += xi*yi\n",
        "    sum_x2 += xi**2\n",
        "    sum_y2 += yi**2\n",
        "  if (sum_x2**0.5 * sum_y2**0.5 == 0): return None\n",
        "  rez = sum_xy / (sum_x2**0.5 * sum_y2**0.5)\n",
        "  return rez"
      ],
      "metadata": {
        "id": "juiXJqitqEht"
      },
      "execution_count": 150,
      "outputs": []
    },
    {
      "cell_type": "code",
      "source": [
        "user_user_sim = np.zeros((len(users),len(users)))"
      ],
      "metadata": {
        "id": "uyULMfZE371C"
      },
      "execution_count": 151,
      "outputs": []
    },
    {
      "cell_type": "code",
      "source": [
        "for u1 in range(len(users)):\n",
        "  for u2 in range(u1, len(users)):\n",
        "    Sij = count_sim(users['u_vector'][u1], users['u_vector'][u2])\n",
        "    user_user_sim[u1][u2] = Sij\n",
        "    if (u1 != u2): user_user_sim[u2][u1] = Sij #Sij == Sji"
      ],
      "metadata": {
        "id": "VcOJPU9x518c"
      },
      "execution_count": 152,
      "outputs": []
    },
    {
      "cell_type": "code",
      "source": [
        "def predict_rating_UtoU(user, item):\n",
        "  sim_list = list()\n",
        "  for i in range(len(users)):\n",
        "    if (user-1 == i): continue\n",
        "    sim = user_user_sim[user-1][i]\n",
        "    if (sim < 0): continue #if user not similar\n",
        "    if (coll_filt[item-1][i] == 0): continue #if item wasn't rated by user\n",
        "    sim_list.append((sim, i))\n",
        "\n",
        "  pred_rating = 0\n",
        "  num = 0\n",
        "  for (sim, indx) in sim_list:\n",
        "    pred_rating += coll_filt[item-1][indx] * sim\n",
        "    num += sim\n",
        "  if (num == 0): return 0.0\n",
        "  pred_rating = pred_rating / num\n",
        "  return pred_rating"
      ],
      "metadata": {
        "id": "88i9jKStBtMN"
      },
      "execution_count": 153,
      "outputs": []
    },
    {
      "cell_type": "code",
      "source": [
        "#check, how good model can predict user's reting\n",
        "#hide 5 users and try to fill it by model\n",
        "#evaluation - RMSE"
      ],
      "metadata": {
        "id": "vySls38ya7Nj"
      },
      "execution_count": null,
      "outputs": []
    },
    {
      "cell_type": "code",
      "source": [
        "coll_filt = np.zeros((len(items),len(users)))\n",
        "coll_filt_cache = np.zeros((len(items),len(users)))\n",
        "\n",
        "for row in range(len(data)):\n",
        "  item = data['item_id'][row]\n",
        "  user = data['user_id'][row]\n",
        "  coll_filt[item-1][user-1] = data['rating'][row]\n",
        "  coll_filt_cache[item-1][user-1] = data['rating'][row]"
      ],
      "metadata": {
        "id": "wkGkAoEkjoRR"
      },
      "execution_count": 154,
      "outputs": []
    },
    {
      "cell_type": "code",
      "source": [
        "k = 0\n",
        "users34 = len(users) - (len(users) // 8)\n",
        "for user in range(users34, users34 + 5):\n",
        "  for item in range(len(items)):\n",
        "    if (coll_filt[item][user-1] != 0):\n",
        "      k += 1\n",
        "    coll_filt[item][user-1] = 0\n",
        "k"
      ],
      "metadata": {
        "id": "8x9sxvM4BP8q",
        "colab": {
          "base_uri": "https://localhost:8080/"
        },
        "outputId": "1e380d1d-e903-4fcc-e540-ca1b5441d3ca"
      },
      "execution_count": 155,
      "outputs": [
        {
          "output_type": "execute_result",
          "data": {
            "text/plain": [
              "417"
            ]
          },
          "metadata": {},
          "execution_count": 155
        }
      ]
    },
    {
      "cell_type": "code",
      "source": [
        "y = list()\n",
        "pred_y_UtoU = list()\n",
        "k = 0\n",
        "for user in range(users34, users34 + 5):\n",
        "  for item in range(1, len(items)+1):\n",
        "    if (coll_filt_cache[item-1][user-1] != 0):\n",
        "      y.append(coll_filt_cache[item-1][user-1])\n",
        "      UtoU = predict_rating_UtoU(user, item)\n",
        "      pred_y_UtoU.append(UtoU)\n",
        "      print(k, end = ' ')\n",
        "      k+=1\n",
        "      if (k % 35 == 0): print('')"
      ],
      "metadata": {
        "colab": {
          "base_uri": "https://localhost:8080/"
        },
        "id": "pq9iFxEDC-k-",
        "outputId": "b0735bbb-9bc2-43e8-b2d8-69cd19b50972"
      },
      "execution_count": 156,
      "outputs": [
        {
          "output_type": "stream",
          "name": "stdout",
          "text": [
            "0 1 2 3 4 5 6 7 8 9 10 11 12 13 14 15 16 17 18 19 20 21 22 23 24 25 26 27 28 29 30 31 32 33 34 \n",
            "35 36 37 38 39 40 41 42 43 44 45 46 47 48 49 50 51 52 53 54 55 56 57 58 59 60 61 62 63 64 65 66 67 68 69 \n",
            "70 71 72 73 74 75 76 77 78 79 80 81 82 83 84 85 86 87 88 89 90 91 92 93 94 95 96 97 98 99 100 101 102 103 104 \n",
            "105 106 107 108 109 110 111 112 113 114 115 116 117 118 119 120 121 122 123 124 125 126 127 128 129 130 131 132 133 134 135 136 137 138 139 \n",
            "140 141 142 143 144 145 146 147 148 149 150 151 152 153 154 155 156 157 158 159 160 161 162 163 164 165 166 167 168 169 170 171 172 173 174 \n",
            "175 176 177 178 179 180 181 182 183 184 185 186 187 188 189 190 191 192 193 194 195 196 197 198 199 200 201 202 203 204 205 206 207 208 209 \n",
            "210 211 212 213 214 215 216 217 218 219 220 221 222 223 224 225 226 227 228 229 230 231 232 233 234 235 236 237 238 239 240 241 242 243 244 \n",
            "245 246 247 248 249 250 251 252 253 254 255 256 257 258 259 260 261 262 263 264 265 266 267 268 269 270 271 272 273 274 275 276 277 278 279 \n",
            "280 281 282 283 284 285 286 287 288 289 290 291 292 293 294 295 296 297 298 299 300 301 302 303 304 305 306 307 308 309 310 311 312 313 314 \n",
            "315 316 317 318 319 320 321 322 323 324 325 326 327 328 329 330 331 332 333 334 335 336 337 338 339 340 341 342 343 344 345 346 347 348 349 \n",
            "350 351 352 353 354 355 356 357 358 359 360 361 362 363 364 365 366 367 368 369 370 371 372 373 374 375 376 377 378 379 380 381 382 383 384 \n",
            "385 386 387 388 389 390 391 392 393 394 395 396 397 398 399 400 401 402 403 404 405 406 407 408 409 410 411 412 413 414 415 416 "
          ]
        }
      ]
    },
    {
      "cell_type": "code",
      "source": [
        "from sklearn.metrics import mean_squared_error\n",
        "\n",
        "result = list()\n",
        "for el in pred_y_UtoU:\n",
        "  result.append(round(el))\n",
        "\n",
        "fig = plt.figure(figsize =(20, 3))\n",
        "ax = fig.add_axes([1, 1, 1, 1])\n",
        "ax.bar([el for el in range(k)], y, label='target', color='gray')\n",
        "ax.bar([el for el in range(k)], result, alpha=0.3, label='result', color='blue')\n",
        "fig.legend()\n",
        "plt.title(\"Comparing predicted and target results\")\n",
        "plt.xlabel('case number')\n",
        "plt.ylabel('rating')\n",
        "plt.savefig('UtoU_result.png', bbox_inches='tight')\n",
        "\n",
        "print(f\"RMSE = {mean_squared_error(y, pred_y_UtoU)**0.5}\")\n",
        "plt.show()"
      ],
      "metadata": {
        "id": "j65gkrItDUrS",
        "colab": {
          "base_uri": "https://localhost:8080/",
          "height": 250
        },
        "outputId": "aa5a7525-5c36-4450-c8af-6af857723278"
      },
      "execution_count": 157,
      "outputs": [
        {
          "output_type": "stream",
          "name": "stdout",
          "text": [
            "RMSE = 0.9157067802780935\n"
          ]
        },
        {
          "output_type": "display_data",
          "data": {
            "text/plain": [
              "<Figure size 2000x300 with 1 Axes>"
            ],
            "image/png": "[encoded data removed]"
          },
          "metadata": {}
        }
      ]
    }
  ]
}