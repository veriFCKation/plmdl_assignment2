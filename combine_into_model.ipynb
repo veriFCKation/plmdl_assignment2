{
  "nbformat": 4,
  "nbformat_minor": 0,
  "metadata": {
    "colab": {
      "provenance": []
    },
    "kernelspec": {
      "name": "python3",
      "display_name": "Python 3"
    },
    "language_info": {
      "name": "python"
    }
  },
  "cells": [
    {
      "cell_type": "code",
      "execution_count": 13,
      "metadata": {
        "id": "Id0GnmQd9UnU"
      },
      "outputs": [],
      "source": [
        "import pandas as pd\n",
        "import numpy as np\n",
        "import os\n",
        "from matplotlib import pyplot as plt\n",
        "from sklearn.preprocessing import LabelEncoder\n",
        "from sklearn.model_selection import train_test_split\n",
        "from sklearn.tree import DecisionTreeClassifier\n",
        "from sklearn.metrics import mean_squared_error\n",
        "from random import randint\n",
        "import json"
      ]
    },
    {
      "cell_type": "code",
      "source": [
        "def find_avr(x):\n",
        "  s = 0\n",
        "  num = 0\n",
        "  for el in x:\n",
        "    if (el != 0):\n",
        "      s += el\n",
        "      num += 1\n",
        "  if (num == 0): return 0\n",
        "  return s / num\n",
        "\n",
        "def count_sim(x, y):\n",
        "  if (len(x) != len(y)): return None\n",
        "  x_mean = find_avr(x)\n",
        "  y_mean = find_avr(y)\n",
        "\n",
        "  sum_xy = 0\n",
        "  sum_x2 = 0\n",
        "  sum_y2 = 0\n",
        "  for i in range(len(x)):\n",
        "    if x[i] == 0: xi = x[i]\n",
        "    else: xi = x[i] - x_mean\n",
        "    if y[i] == 0: yi = y[i]\n",
        "    else: yi = y[i] - y_mean\n",
        "    sum_xy += xi*yi\n",
        "    sum_x2 += xi**2\n",
        "    sum_y2 += yi**2\n",
        "  if (sum_x2**0.5 * sum_y2**0.5 == 0): return None\n",
        "  rez = sum_xy / (sum_x2**0.5 * sum_y2**0.5)\n",
        "  return rez"
      ],
      "metadata": {
        "id": "Qq9dSHVI-Jnx"
      },
      "execution_count": 18,
      "outputs": []
    },
    {
      "cell_type": "code",
      "source": [
        "def transform_user(users):\n",
        "  user_enc = LabelEncoder()\n",
        "  users['occupation_enc'] = user_enc.fit_transform(users['occupation'].values)\n",
        "  zip_enc = LabelEncoder()\n",
        "  users['zip_code'] = zip_enc.fit_transform(users['zip_code'].values)\n",
        "  users = users.drop(['occupation'], axis=1)\n",
        "\n",
        "  user_vectors = []\n",
        "  for i in range(len(users)):\n",
        "    user_vectors.append([users['age'][i], users['gender'][i],\n",
        "                        users['zip_code'][i], users['occupation_enc'][i]])\n",
        "  users['u_vector'] = user_vectors\n",
        "  return users\n",
        "\n",
        "def transform_item(items):\n",
        "  item_enc = LabelEncoder()\n",
        "  items['title_enc'] = item_enc.fit_transform(items['title'].values)\n",
        "  rel_enc = LabelEncoder()\n",
        "  items['release_enc'] = rel_enc.fit_transform(items['release'].values)\n",
        "  items = items.drop(['release'], axis=1)\n",
        "  return items, item_enc"
      ],
      "metadata": {
        "id": "mbv-rDOg_Esg"
      },
      "execution_count": 19,
      "outputs": []
    },
    {
      "cell_type": "code",
      "source": [
        "def create_coll_filt(data, users, items_size):\n",
        "  coll_filt = np.zeros((items_size,len(users)))\n",
        "  for row in range(len(data)):\n",
        "    item = data['item_id'][row]\n",
        "    user = data['user_id'][row]\n",
        "    coll_filt[item-1][user-1] = data['rating'][row]\n",
        "\n",
        "  user_user_sim = np.zeros((len(users),len(users)))\n",
        "  for u1 in range(len(users)):\n",
        "    for u2 in range(u1, len(users)):\n",
        "      Sij = count_sim(users['u_vector'][u1], users['u_vector'][u2])\n",
        "      user_user_sim[u1][u2] = Sij\n",
        "      if (u1 != u2): user_user_sim[u2][u1] = Sij\n",
        "  return coll_filt, user_user_sim\n",
        "\n",
        "def train_tree_set(data, items, users_size):\n",
        "  full_data = pd.merge(data, items)\n",
        "\n",
        "  datasets = dict()\n",
        "  for user in range(1, users_size+1):\n",
        "    df = pd.DataFrame(columns=['unknown','Action', 'Adventure','Animation',\n",
        "                              \"Children's\", 'Comedy', 'Crime','Documentary',\n",
        "                              'Drama','Fantasy','Film-Noir','Horror', 'Musical',\n",
        "                              'Mystery', 'Romance', 'Sci-Fi', 'Thriller', 'War',\n",
        "                              'Western','title_enc', 'release_enc', 'rating'])\n",
        "    datasets[user] = df\n",
        "  for row in range(len(full_data)):\n",
        "    user = full_data['user_id'][row]\n",
        "    new_row = []\n",
        "    for col in full_data.columns[5:]:\n",
        "      new_row.append(full_data[col][row])\n",
        "    new_row.append(full_data['rating'][row])\n",
        "    datasets[user].loc[len(datasets[user])] = new_row\n",
        "\n",
        "  tree_set = dict()\n",
        "  for user in range(1, users_size+1):\n",
        "    clf_tree = DecisionTreeClassifier(criterion = 'entropy', random_state = 100,\n",
        "                                      max_depth = 3, min_samples_leaf = 5)\n",
        "    tree_set[user] = clf_tree\n",
        "    X_train = datasets[user].drop(['rating'], axis=1)\n",
        "    y_train = datasets[user]['rating'].values\n",
        "    tree_set[user].fit(X_train, y_train)\n",
        "  return tree_set, full_data"
      ],
      "metadata": {
        "id": "9mW6DqAa9486"
      },
      "execution_count": 20,
      "outputs": []
    },
    {
      "cell_type": "code",
      "source": [
        "class Recomendation_System:\n",
        "  def __init__(self, data_, user_, item_):\n",
        "    self.data = data_\n",
        "    self.users = transform_user(user_)\n",
        "    self.items, self.title_enc = transform_item(item_)\n",
        "\n",
        "    self.coll_filt, self.user_user_sim = create_coll_filt(self.data, self.users, len(self.items))\n",
        "    self.tree_set, self.full_data = train_tree_set(self.data, self.items, len(self.users))\n",
        "\n",
        "  def predict_rating_UtoU(self, user, item):\n",
        "    sim_list = list()\n",
        "    for i in range(len(self.users)):\n",
        "      if (user-1 == i): continue\n",
        "      sim = self.user_user_sim[user-1][i]\n",
        "      if (sim < 0): continue\n",
        "      if (self.coll_filt[item-1][i] == 0): continue\n",
        "      sim_list.append((sim, i))\n",
        "    pred_rating = 0\n",
        "    num = 0\n",
        "    for (sim, indx) in sim_list:\n",
        "      pred_rating += self.coll_filt[item-1][indx] * sim\n",
        "      num += sim\n",
        "    if (num == 0): return 0.0\n",
        "    pred_rating = pred_rating / num\n",
        "    return pred_rating\n",
        "\n",
        "  def predict_raiting_tree(self, user, item):\n",
        "    df = pd.DataFrame(columns=['unknown','Action', 'Adventure','Animation',\n",
        "                             \"Children's\", 'Comedy', 'Crime','Documentary',\n",
        "                             'Drama','Fantasy','Film-Noir','Horror', 'Musical',\n",
        "                             'Mystery', 'Romance', 'Sci-Fi', 'Thriller', 'War',\n",
        "                             'Western','title_enc', 'release_enc'])\n",
        "    new_row = []\n",
        "    for col in self.full_data.columns[5:26]:\n",
        "      new_row.append(self.full_data[col][0])\n",
        "    df.loc[0] = new_row\n",
        "    pred_rating = self.tree_set[196].predict(df)\n",
        "    return pred_rating[0]\n",
        "\n",
        "  def get_ratings_CF(self, user, possible_items):\n",
        "    ratings = list()\n",
        "    for item in possible_items:\n",
        "      pred_r = self.predict_rating_UtoU(user, item)\n",
        "      if (pred_r != 0):\n",
        "        ratings.append((round(pred_r-0.5), item))\n",
        "    return ratings\n",
        "\n",
        "  def get_ratings_CB(self, user, possible_items):\n",
        "    ratings = list()\n",
        "    for item in possible_items:\n",
        "      pred_r = self.predict_raiting_tree(user, item)\n",
        "      ratings.append((round(pred_r+0.8), item))\n",
        "    return ratings\n",
        "\n",
        "  def recommend_for_user(self, user, top=10, method='hybrid', with_predictions=False):\n",
        "    all_itms = set([i for i in range(1, len(self.items)+1)])\n",
        "    for row in range(len(self.data)):\n",
        "      item_ = self.data['item_id'][row]\n",
        "      user_ = self.data['user_id'][row]\n",
        "      if (user_ != user): continue\n",
        "      all_itms.remove(item_)\n",
        "    possible_items = list(all_itms)\n",
        "\n",
        "    ratings = list()\n",
        "    if (method == 'coll_filtr'):\n",
        "      ratings = self.get_ratings_CF(user, possible_items)\n",
        "    elif (method == 'content_b'):\n",
        "      ratings = self.get_ratings_CB(user, possible_items)\n",
        "    elif (method == 'hybrid'):\n",
        "      ratingCF = self.get_ratings_CF(user, possible_items)\n",
        "      dictCF = dict()\n",
        "      for (r, item) in ratingCF:\n",
        "        dictCF[item] = r\n",
        "      ratings = self.get_ratings_CB(user, possible_items)\n",
        "      for i in range(len(ratings)):\n",
        "        if (ratings[i][1] in dictCF):\n",
        "          if (randint(1,2) % 2 == 0):#dictCF[ratings[i][1]] >= ratings[i][0]):\n",
        "            ratings[i] = (dictCF[ratings[i][1]], ratings[i][1])\n",
        "          dictCF.pop(ratings[i][1])\n",
        "      for item in list(dictCF.keys()):\n",
        "        ratings.append((dictCF[item], item))\n",
        "    else:\n",
        "      print(\"Error: only 'content_b'/'coll_filtr'/'hybrid' method\")\n",
        "      return None\n",
        "\n",
        "    ratings.sort()\n",
        "    ratings.reverse()\n",
        "    result = []\n",
        "    for (rating, item_id) in ratings:\n",
        "      if (with_predictions):\n",
        "        result.append((self.items['title'][item_id - 1], rating))\n",
        "      else:\n",
        "        result.append(self.items['title'][item_id - 1])\n",
        "      if (len(result) == top): break\n",
        "    return result"
      ],
      "metadata": {
        "id": "acuGk4jN9dEM"
      },
      "execution_count": 79,
      "outputs": []
    },
    {
      "cell_type": "code",
      "source": [
        "#check working process"
      ],
      "metadata": {
        "id": "sCBAwplrJTGU"
      },
      "execution_count": null,
      "outputs": []
    },
    {
      "cell_type": "code",
      "source": [
        "from google.colab import drive\n",
        "drive.mount('/content/drive')"
      ],
      "metadata": {
        "colab": {
          "base_uri": "https://localhost:8080/"
        },
        "id": "h_qeOfAIJX3w",
        "outputId": "dfb77203-ae60-456a-dabb-819ff1758e5a"
      },
      "execution_count": 11,
      "outputs": [
        {
          "output_type": "stream",
          "name": "stdout",
          "text": [
            "Mounted at /content/drive\n"
          ]
        }
      ]
    },
    {
      "cell_type": "code",
      "source": [
        "data = pd.read_csv('/content/drive/MyDrive/datasets/data_ds.csv')\n",
        "users = pd.read_csv('/content/drive/MyDrive/datasets/users_ds.csv')\n",
        "items = pd.read_csv('/content/drive/MyDrive/datasets/items_ds.csv')"
      ],
      "metadata": {
        "id": "nq6X36CjJiwB"
      },
      "execution_count": 14,
      "outputs": []
    },
    {
      "cell_type": "code",
      "source": [
        "rec_model = Recomendation_System(data, users, items)"
      ],
      "metadata": {
        "id": "cchz3ZpbJntG"
      },
      "execution_count": 80,
      "outputs": []
    },
    {
      "cell_type": "code",
      "source": [
        "titles = rec_model.recommend_for_user(100)\n",
        "print(\"Movies for user #100:\")\n",
        "for title in titles:\n",
        "  print(\" \", title)"
      ],
      "metadata": {
        "colab": {
          "base_uri": "https://localhost:8080/"
        },
        "id": "fiFJEYqRNuwV",
        "outputId": "dc593121-32db-4edb-de38-8d9e9b1e91b2"
      },
      "execution_count": 86,
      "outputs": [
        {
          "output_type": "stream",
          "name": "stdout",
          "text": [
            "Movies for user #100:\n",
            "  You So Crazy (1994)\n",
            "  Sliding Doors (1998)\n",
            "  B. Monkey (1998)\n",
            "  Mat' i syn (1997)\n",
            "  War at Home, The (1996)\n",
            "  Sunchaser, The (1996)\n",
            "  Mamma Roma (1962)\n",
            "  Further Gesture, A (1996)\n",
            "  Brother's Kiss, A (1997)\n",
            "  8 Heads in a Duffel Bag (1997)\n"
          ]
        }
      ]
    },
    {
      "cell_type": "code",
      "source": [
        "titles = rec_model.recommend_for_user(100, method='content_b')\n",
        "print(\"Movies for user #100:\")\n",
        "for title in titles:\n",
        "  print(\" \", title)"
      ],
      "metadata": {
        "colab": {
          "base_uri": "https://localhost:8080/"
        },
        "id": "EM2pty4qJ-J4",
        "outputId": "a352fadc-7aac-4394-ae35-9a18069a0db8"
      },
      "execution_count": 87,
      "outputs": [
        {
          "output_type": "stream",
          "name": "stdout",
          "text": [
            "Movies for user #100:\n",
            "  Scream of Stone (Schrei aus Stein) (1991)\n",
            "  You So Crazy (1994)\n",
            "  Sliding Doors (1998)\n",
            "  B. Monkey (1998)\n",
            "  Mat' i syn (1997)\n",
            "  Sweet Nothing (1995)\n",
            "  War at Home, The (1996)\n",
            "  Sunchaser, The (1996)\n",
            "  Mamma Roma (1962)\n",
            "  Mirage (1995)\n"
          ]
        }
      ]
    },
    {
      "cell_type": "code",
      "source": [
        "titles = rec_model.recommend_for_user(100, method='coll_filtr')\n",
        "print(\"Movies for user #100:\")\n",
        "for title in titles:\n",
        "  print(\" \", title)"
      ],
      "metadata": {
        "colab": {
          "base_uri": "https://localhost:8080/"
        },
        "id": "5wyerU17NaNY",
        "outputId": "7d662242-5d54-431b-8e26-3b559ff90935"
      },
      "execution_count": 88,
      "outputs": [
        {
          "output_type": "stream",
          "name": "stdout",
          "text": [
            "Movies for user #100:\n",
            "  Saint of Fort Washington, The (1993)\n",
            "  Mamma Roma (1962)\n",
            "  Entertaining Angels: The Dorothy Day Story (1996)\n",
            "  Spanish Prisoner, The (1997)\n",
            "  Butcher Boy, The (1998)\n",
            "  Butcher Boy, The (1998)\n",
            "  Some Mother's Son (1996)\n",
            "  Bitter Sugar (Azucar Amargo) (1996)\n",
            "  Brothers in Trouble (1995)\n",
            "  Nico Icon (1995)\n"
          ]
        }
      ]
    },
    {
      "cell_type": "code",
      "source": [
        "titles = rec_model.recommend_for_user(80, top=5, with_predictions=True)\n",
        "print(\"Movies for user #100:\")\n",
        "for title in titles:\n",
        "  print(\" \", title)"
      ],
      "metadata": {
        "colab": {
          "base_uri": "https://localhost:8080/"
        },
        "id": "IF5QntlVYZPU",
        "outputId": "e9bbea9e-d3f7-439a-c1c5-0506d939e1d9"
      },
      "execution_count": 89,
      "outputs": [
        {
          "output_type": "stream",
          "name": "stdout",
          "text": [
            "Movies for user #100:\n",
            "  ('Prefontaine (1997)', 5)\n",
            "  ('Scream of Stone (Schrei aus Stein) (1991)', 4)\n",
            "  ('You So Crazy (1994)', 4)\n",
            "  ('War at Home, The (1996)', 4)\n",
            "  ('Sunchaser, The (1996)', 4)\n"
          ]
        }
      ]
    }
  ]
}